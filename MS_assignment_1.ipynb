{
  "cells": [
    {
      "metadata": {
        "collapsed": true
      },
      "cell_type": "markdown",
      "source": "## 数理統計学(2019)　課題1\n\n### このnotebookには、いくつかの課題が記載されています。\n### 先頭から順番に、指示に従ってPython Codeをcellに記述してください。\n### codeを記述するcellは、各自適切に生成してください。\n\n### 課題提出方法\n#### 各自のGitHubに、学籍番号_MS1（たとえば、C180001_MS1)という名称のrepositoryを作成してください。\n#### このnotebookを各自のGitHubのリポジトリ（学籍番号_MS1)へコピーしてください。\n#### 各自のGitHubのリポジトリをoffice 365のメールアカウントを使用して、sugimura@ccg.ac.jpへ送信してください。メールの件名は、学籍番号_MS1としてください。\n##### 【重要】指定された方法で課題を提出することも課題に含まれています。"
    },
    {
      "metadata": {},
      "cell_type": "markdown",
      "source": "#### 第1問：Pythonにおいて数値計算を行うためのモジュルnumpyをインポートし、numpy数値計算ライブラリを利用できるように設定してください。"
    },
    {
      "metadata": {
        "trusted": true
      },
      "cell_type": "code",
      "source": "import numpy as np\n\nA = np.random.normal(25, 5, 10)\nprint (A)",
      "execution_count": 2,
      "outputs": [
        {
          "output_type": "stream",
          "text": "[28.61490534 20.44426154 24.73648429 17.87307543 21.59614611 25.63963085\n 28.05378809 22.49861633 35.60083629 28.76566461]\n",
          "name": "stdout"
        }
      ]
    },
    {
      "metadata": {},
      "cell_type": "markdown",
      "source": "#### 第2問：numpyのメソッドnumpy.random.normal(avg, std, n)は、平均がavg、標準偏差がstdである正規分布に従う乱数をn個発生させることができます。このメソッドを使用して、平均=60、標準偏差=15、個数=50である乱数からなるリストA1を発生させ、画面に表示させてください。\n"
    },
    {
      "metadata": {
        "trusted": true
      },
      "cell_type": "code",
      "source": "import numpy as np\n\nA1 = np.random.normal(60.0, 15.0, 50)\n\nprint (A1)",
      "execution_count": 3,
      "outputs": [
        {
          "output_type": "stream",
          "text": "[42.41616208 78.6173469  52.98884715 40.48100728 85.24945661 54.98536398\n 64.22890813 78.71105318 42.6206653  51.18618958 56.81724113 49.86530276\n 38.34668545 45.15464961 51.64120655 62.94679232 47.47715843 62.58762919\n 57.87489836 73.21029822 87.83329941 49.98062377 71.92530109 64.62035017\n 63.95436611 51.3802926  63.43755124 81.64408302 77.38342653 68.3580971\n 35.99602592 61.36241429 71.79386129 79.25772888 48.20233286 70.99192711\n 82.0218615  74.2560523  46.52092839 50.3975589  52.85790503 46.85381322\n 65.29213202 41.64183404 68.95829123 61.0731476  44.83371812 76.52524272\n 74.66123503 56.5236455 ]\n",
          "name": "stdout"
        }
      ]
    },
    {
      "metadata": {},
      "cell_type": "markdown",
      "source": "#### 第3問：第2問で発生させた乱数を整数に変換して、50個の整数のリストA2を発生させ、画面に表示させてください。\n#### Pythonのint関数は、データを整数へ変換することができます。xが実数であるとき、int(x)は、xを丸めた整数型の数値を返します。\n#### なお、リスト内包表記を用いると、コードを簡単化することができます。"
    },
    {
      "metadata": {
        "trusted": true
      },
      "cell_type": "code",
      "source": "from numpy.random import *\n\nA2 = [int(i) for i in A1] \nprint(A2)",
      "execution_count": 4,
      "outputs": [
        {
          "output_type": "stream",
          "text": "[42, 78, 52, 40, 85, 54, 64, 78, 42, 51, 56, 49, 38, 45, 51, 62, 47, 62, 57, 73, 87, 49, 71, 64, 63, 51, 63, 81, 77, 68, 35, 61, 71, 79, 48, 70, 82, 74, 46, 50, 52, 46, 65, 41, 68, 61, 44, 76, 74, 56]\n",
          "name": "stdout"
        }
      ]
    },
    {
      "metadata": {},
      "cell_type": "markdown",
      "source": "#### 第3問：以下の整数型リストB1の要素の平均値を計算して、画面に表示させてください。\n\n##### なお、平均値は、\n\n$$平均値　= \\frac{リスト中の要素の合計}{リスト中の要素の個数}$$\n\n##### によって計算してください。\n\nB1 = [80, 84, 41, 58, 87, 75, 61, 103, 52, 86, 91, 58, 53, 40, 56, 55, 57, 43, 60, 61, 61, 46, 99, 48, 58, \n      72, 52, 75, 71, 60, 54, 60, 64, 38, 56, 57, 78, 55, 53, 28, 67, 86, 75, 73, 82, 86, 65, 26, 59, 24]"
    },
    {
      "metadata": {
        "trusted": true
      },
      "cell_type": "code",
      "source": "B1 = [80, 84, 41, 58, 87, 75, 61, 103, 52, 86, 91, 58, 53, 40, 56, 55, 57, 43, 60, 61, 61, 46, 99, 48, 58, \n      72, 52, 75, 71, 60, 54, 60, 64, 38, 56, 57, 78, 55, 53, 28, 67, 86, 75, 73, 82, 86, 65, 26, 59, 24]\n\nimport numpy as np\n\nnp.mean(B1)",
      "execution_count": 5,
      "outputs": [
        {
          "output_type": "execute_result",
          "execution_count": 5,
          "data": {
            "text/plain": "62.58"
          },
          "metadata": {}
        }
      ]
    },
    {
      "metadata": {},
      "cell_type": "markdown",
      "source": "#### 第4問：整数型リストB1の要素の中の最大値を求めるコードを記述し、max(B1)の結果と一致することを確認してください。"
    },
    {
      "metadata": {
        "trusted": true
      },
      "cell_type": "code",
      "source": "import numpy as np\n\nnp.max(B1)\n\nmax_data = -100\nfor i in B1:\n    if i > max_data:\n        max_data = i\nif(max_data == -100):\n    print('error')\nelse:\n    print('最大値は',max_data,'です。')\n\nif max_data == max(B1):\n    print(\"OK\")\nelse:\n    print(\"NG\")",
      "execution_count": 9,
      "outputs": [
        {
          "output_type": "stream",
          "text": "最大値は 103 です。\nOK\n",
          "name": "stdout"
        }
      ]
    },
    {
      "metadata": {
        "trusted": true
      },
      "cell_type": "code",
      "source": "",
      "execution_count": null,
      "outputs": []
    }
  ],
  "metadata": {
    "kernelspec": {
      "name": "python36",
      "display_name": "Python 3.6",
      "language": "python"
    },
    "language_info": {
      "mimetype": "text/x-python",
      "nbconvert_exporter": "python",
      "name": "python",
      "pygments_lexer": "ipython3",
      "version": "3.6.6",
      "file_extension": ".py",
      "codemirror_mode": {
        "version": 3,
        "name": "ipython"
      }
    }
  },
  "nbformat": 4,
  "nbformat_minor": 2
}